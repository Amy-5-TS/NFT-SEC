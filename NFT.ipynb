{
  "cells": [
    {
      "cell_type": "markdown",
      "source": [
        "# SW2: NFT Security - code\n",
        "Detect RUG PULL via user input using SVM as the supervised model\n",
        "\n",
        "\n",
        "##Read before use:\n",
        "0. This ipynb file is meant to be run on Colab\n",
        "1. Load data: When run on colab, upload the data file to the Google sheet. Put it under MyDrive, then make sure the file name in Google matches the address specified in the code. If not, make sure 'df' contains the data frame specified in the Rug Pull data file\n",
        "2. SVM models: there are two versions of the SVM model for the user to select from.\n",
        "Version 1: This model takes 8 features as model training input\n",
        "Version 2: This model takes 5 features as model training input, excluding # of items, # of owners & total volume in ETH\n",
        "3. Prediction output: when output is -1, it means the input is possibly NOT a Rug Pull, when the output is 1, it means the input is possibly a Rug Pull. There is also probability output available.\n",
        "4. Evaluation part: It evaluates candidate supervised models' performance (SVM included). It also produces some visualizations.\n",
        "\n",
        "\n",
        "##how to use:\n",
        "After uploading data onto Google Sheet, run the first cell and give authorization for the code to access the file stored in Google sheet.\n",
        "Then run the second cell if you want 8 features for model training\n",
        "Run the third cell if you want 5 features for model training"
      ],
      "metadata": {
        "id": "-NYsh7nu68d1"
      }
    },
    {
      "cell_type": "code",
      "source": [
        "\n",
        "import pandas as pd\n",
        "from sklearn import datasets, linear_model\n",
        "from sklearn.model_selection import train_test_split\n",
        "from matplotlib import pyplot as plt\n",
        "\n",
        "#load data\n",
        "\n",
        "#To read/write data from Google Drive:\n",
        "#Reference: https://colab.research.google.com/notebooks/io.ipynb#scrollTo=u22w3BFiOveAå\n",
        "from google.colab import drive\n",
        "drive.mount('/content/drive')\n",
        "df = pd.read_excel('/content/drive/My Drive/dataN416.xlsx') #make sure file name matches\n",
        "\n",
        "Rugs = df.loc[df['rug pull'] == 1.0]\n",
        "nRPs = Rugs.shape[0] # number of rug-pull collections\n",
        "nColl = df.shape[0]\n"
      ],
      "metadata": {
        "colab": {
          "base_uri": "https://localhost:8080/"
        },
        "id": "1KHMcMcI1qC8",
        "outputId": "b02a74c6-a1bc-4610-c5b0-0fa75e6ae6e4"
      },
      "execution_count": null,
      "outputs": [
        {
          "output_type": "stream",
          "name": "stdout",
          "text": [
            "Mounted at /content/drive\n"
          ]
        }
      ]
    },
    {
      "cell_type": "markdown",
      "source": [
        "##Version1: train model with all 8 features"
      ],
      "metadata": {
        "id": "n-z-jg-u-WpS"
      }
    },
    {
      "cell_type": "code",
      "source": [
        "\n",
        "# use all features to train the model\n",
        "\n",
        "X_sc = df.iloc[0:nColl,2:df.shape[1]]\n",
        "y_sc = df.iloc[0:nColl, 1:2]\n",
        "\n",
        "#-1:not detected, 0: not clear, 1: detected\n",
        "#split set\n",
        "X_train, X_test, y_train, y_test = train_test_split(X_sc, y_sc, test_size=0.2)\n",
        "\n",
        "#data verifi.\n",
        "#X_train.shape, y_train.shape, X_test.shape, y_test.shape, y_train\n",
        "\n",
        "# Train model\n",
        "\n",
        "from sklearn.svm import SVC\n",
        "svm = SVC(kernel='linear', C=1, random_state=42)\n",
        "\n",
        "svm.fit(X_train, y_train.values.ravel())\n",
        "\n",
        "#print(\"Score of the SVM model in the training phase is:\")\n",
        "score = svm.score(X_test, y_test)\n",
        "\n",
        "#Train the SVM model for prediction of user selected collection via user input\n",
        "SVM = SVC(kernel='linear', C=1,  probability=True, random_state=42)\n",
        "\n",
        "SVM.fit(X_sc, y_sc.values.ravel())\n",
        "\n",
        "#get user input\n",
        "\n",
        "print(\"You will need to enter 8 values to predict whether your selected collection has a high possibility of being a Rug Pull.\")\n",
        "# iterating the columns\n",
        "for col in X_sc.columns:\n",
        "    print(col)\n",
        "\n",
        "#0 collection name\n",
        "print(\"You can indicate the name of the collection\")\n",
        "Name = input()\n",
        "\n",
        "#1 holders\n",
        "print(\"1. Enter total number of owners of the collection : (enter an nonnegative integer, type -1 if no information available)\")\n",
        "while True:\n",
        "    try:\n",
        "        num_1 = int(input())\n",
        "    except ValueError:\n",
        "        print(\"Oops!  That was no valid integer.  Try again...\")\n",
        "        continue  # Value error, try again\n",
        "\n",
        "    if num_1 >= -1:\n",
        "        break  # Abort the infinite loop\n",
        "    else :\n",
        "        print(\"Oops!  That was no valid number.  Try again...\")\n",
        "        continue\n",
        "\n",
        "\n",
        "\n",
        "#2 items\n",
        "print(\"2. Total number of items within the collection (enter an nonnegative integer, type -1 if no information available) \")\n",
        "while True:\n",
        "    try:\n",
        "      num_2 = int(input())\n",
        "    except ValueError:\n",
        "        print(\"Oops!  That was no valid integer.  Try again...\")\n",
        "        continue  # Value error, try again\n",
        "\n",
        "    if num_2 >= -1:\n",
        "        break  # Abort the infinite loop\n",
        "    else :\n",
        "        print(\"Oops!  That was no valid number.  Try again...\")\n",
        "        continue\n",
        "\n",
        "\n",
        "\n",
        "#3 anonymity\n",
        "print(\"3. Is the collection's founder anonymous? (1 for yes, -1 for no, type 0 if no information available) \")\n",
        "while True:\n",
        "    try:\n",
        "        num_3 = int(input())\n",
        "    except ValueError:\n",
        "        print(\"Oops!  That was no valid integer.  Try again...\")\n",
        "        continue  # Value error, try again\n",
        "\n",
        "    if num_3 == -1 or num_3 == 0 or num_3 == 1:\n",
        "        break  # Abort the infinite loop\n",
        "    else :\n",
        "        print(\"Oops!  That was no valid number.  Try again by only typing -1,0 or 1...\")\n",
        "        continue\n",
        "\n",
        "\n",
        "\n",
        "\n",
        "#4 community driven roadmap\n",
        "print(\"4. Is the collection's Roadmap heavily community driven?  (1 for yes, -1 for no, type 0 if no information available) \")\n",
        "while True:\n",
        "    try:\n",
        "        num_4 = int(input())\n",
        "    except ValueError:\n",
        "        print(\"Oops!  That was no valid integer.  Try again...\")\n",
        "        continue  # Value error, try again\n",
        "\n",
        "    if num_4 == -1 or num_4 == 0 or num_4 == 1:\n",
        "        break  # Abort the infinite loop\n",
        "    else :\n",
        "        print(\"Oops!  That was no valid number.  Try again by only typing -1,0 or 1...\")\n",
        "        continue\n",
        "\n",
        "\n",
        "#5\n",
        "print(\"5. Does the collection heavily mentioning DAO? (1 for yes, -1 for no, type 0 if no information available) \")\n",
        "while True:\n",
        "    try:\n",
        "        num_5 = int(input())\n",
        "    except ValueError:\n",
        "        print(\"Oops!  That was no valid integer.  Try again...\")\n",
        "        continue  # Value error, try again\n",
        "\n",
        "    if num_5 == -1 or num_5 == 0 or num_5 == 1:\n",
        "        break  # Abort the infinite loop\n",
        "    else :\n",
        "        print(\"Oops!  That was no valid number.  Try again by only typing -1,0 or 1...\")\n",
        "        continue\n",
        "\n",
        "\n",
        "#6\n",
        "print(\"6. Is the collection suspended on OpenSea?  (1 for yes, -1 for no) \")\n",
        "while True:\n",
        "    try:\n",
        "        num_6 = int(input())\n",
        "    except ValueError:\n",
        "        print(\"Oops!  That was no valid integer.  Try again...\")\n",
        "        continue  # Value error, try again\n",
        "\n",
        "    if num_6 == -1 or num_6 == 1:\n",
        "        break  # Abort the infinite loop\n",
        "    else :\n",
        "        print(\"Oops!  That was no valid number.  Try again by only typing -1or 1...\")\n",
        "        continue\n",
        "\n",
        "\n",
        "#7\n",
        "print(\"7. Enter collection's creator earning (enter an nonnegative value (if 5%, enter 5), type -1 if no information available):\")\n",
        "import math\n",
        "while True:\n",
        "    try:\n",
        "        num_7 = float(input())\n",
        "    except ValueError:\n",
        "        print(\"Oops!  That was no valid number.  Try again...\")\n",
        "        continue  # Value error, try again\n",
        "\n",
        "    if math.isclose(-1, num_7) or (num_7 <= 100.0 and num_7>=0.0):\n",
        "        break  # Abort the infinite loop\n",
        "    else :\n",
        "        print(\"Oops!  That was no valid number.  Try again by only typing -1 or number between 0 and 100 (incl.)...\")\n",
        "        continue\n",
        "\n",
        "\n",
        "#8\n",
        "print(\"8. The collection's total trading volume in ETH (enter an nonnegative value, type -1 if no information available):\")\n",
        "while True:\n",
        "    try:\n",
        "        num_8 = float(input())\n",
        "    except ValueError:\n",
        "        print(\"Oops!  That was no valid number.  Try again...\")\n",
        "        continue  # Value error, try again\n",
        "\n",
        "    if math.isclose(-1, num_8) or num_8 >=0:\n",
        "        break  # Abort the infinite loop\n",
        "    else :\n",
        "        print(\"Oops!  That was no valid number.  Try again by only typing -1 or an non-negative number...\")\n",
        "        continue\n",
        "data = {'owners(#)': [num_1], 'items(#)': [num_2], 'anonymity': [num_3],'hasAcommunityDrivenRoadmap': [num_4],'mentioningDAO': [num_5],'suspended(OpenSea)': [num_6],'creator earning (%)': [num_7], 'collection volume (ETH)': [num_8]}\n",
        "\n",
        "\n",
        "\n",
        "userDF_X = pd.DataFrame(data)\n",
        "prob= SVM.predict_proba(userDF_X)\n",
        "user_RugPull = SVM.predict(userDF_X)\n",
        "if  user_RugPull[0] == 1:\n",
        "    print(Name, \"is possibly a Rug Pull!\")\n",
        "    print(\"    Probability\")\n",
        "    print(\"---------------------\")\n",
        "    print(\"is a Rug | not a Rug\")\n",
        "    print(prob)\n",
        "else:\n",
        "    print(Name, \"is possibly NOT a Rug Pull!\")\n",
        "    print(\"    Probability\")\n",
        "    print(\"---------------------\")\n",
        "    print(\"is a Rug | not a Rug\")\n",
        "    print(prob)\n",
        "\n",
        "\n"
      ],
      "metadata": {
        "colab": {
          "base_uri": "https://localhost:8080/"
        },
        "id": "wxsnTVo5-DgV",
        "outputId": "9cc8c3d2-e915-41bf-85da-cbfa8f98a052"
      },
      "execution_count": null,
      "outputs": [
        {
          "output_type": "stream",
          "name": "stdout",
          "text": [
            "You will need to enter 8 values to predict whether your selected collection has a high possibility of being a Rug Pull.\n",
            "owners(#)\n",
            "items(#)\n",
            "anonymity\n",
            "hasAcommunityDrivenRoadmap\n",
            "mentioningDAO\n",
            "suspended(OpenSea)\n",
            "creator earning (%)\n",
            "collection volume (ETH)\n",
            "You can indicate the name of the collection\n",
            "crptopunks\n",
            "1. Enter total number of owners of the collection : (enter an nonnegative integer, type -1 if no information available)\n",
            "3799\n",
            "2. Total number of items within the collection (enter an nonnegative integer, type -1 if no information available) \n",
            "5693\n",
            "3. Is the collection's founder anonymous? (1 for yes, -1 for no, type 0 if no information available) \n",
            "-1\n",
            "4. Is the collection's Roadmap heavily community driven?  (1 for yes, -1 for no, type 0 if no information available) \n",
            "-1\n",
            "5. Does the collection heavily mentioning DAO? (1 for yes, -1 for no, type 0 if no information available) \n",
            "-1\n",
            "6. Is the collection suspended on OpenSea?  (1 for yes, -1 for no) \n",
            "-1\n",
            "7. Enter collection's creator earning (enter an nonnegative value (if 5%, enter 5), type -1 if no information available):\n",
            "0\n",
            "8. The collection's total trading volume in ETH (enter an nonnegative value, type -1 if no information available):\n",
            "1260361\n",
            "crptopunks is possibly a Rug Pull!\n",
            "    Probability\n",
            "---------------------\n",
            "is a Rug | not a Rug\n",
            "[[3.0000009e-14 1.0000000e+00]]\n"
          ]
        }
      ]
    },
    {
      "cell_type": "markdown",
      "source": [
        "## Version 2: Train model with 5 features\n",
        "anonymity\thasAcommunityDrivenRoadmap\tmentioningDAO\tsuspended(OpenSea)\tcreator earning (%)"
      ],
      "metadata": {
        "id": "gAbon-rg-bQt"
      }
    },
    {
      "cell_type": "code",
      "source": [
        "-# use only anonymity\thasAcommunityDrivenRoadmap\tmentioningDAO\tsuspended(OpenSea)\tcreator earning (%) to train the model\n",
        "X_sc2 = df.iloc[0:nColl,4:df.shape[1]-1]\n",
        "y_sc2 = df.iloc[0:nColl, 1:2]\n",
        "\n",
        "#-1:not detected, 0: not clear, 1: detected\n",
        "#split set\n",
        "X_train2, X_test2, y_train2, y_test2 = train_test_split(X_sc2, y_sc2, test_size=0.2)\n",
        "X_train2\n",
        "\n",
        "\n",
        "from sklearn.svm import SVC\n",
        "svm2 = SVC(kernel='linear', C=1, random_state=42)\n",
        "\n",
        "svm2.fit(X_train2, y_train2.values.ravel())\n",
        "\n",
        "#print(\"Score of the SVM model in the training phase is:\")\n",
        "score2 = svm2.score(X_test2, y_test2)\n",
        "\n",
        "#Train the SVM model for prediction of user selected collection via user input\n",
        "SVM2 = SVC(kernel='linear', C=1, random_state=42) # add posibility\n",
        "\n",
        "SVM2.fit(X_sc2, y_sc2.values.ravel())\n",
        "\n",
        "# get user input\n",
        "\n",
        "print(\"You will need to enter 5 values to predict whether your selected collection has a high possibility of being a Rug Pull.\")\n",
        "# iterating the columns\n",
        "for col in X_sc2.columns:\n",
        "    print(col)\n",
        "\n",
        "#0 collection name\n",
        "print(\"You can indicate the name of the collection\")\n",
        "Name = input()\n",
        "\n",
        "\n",
        "#1 anonymity\n",
        "print(\"1. Is the collection's founder anonymous? (1 for yes, -1 for no, type 0 if no information available) \")\n",
        "while True:\n",
        "    try:\n",
        "        num_3 = int(input())\n",
        "    except ValueError:\n",
        "        print(\"Oops!  That was no valid integer.  Try again...\")\n",
        "        continue  # Value error, try again\n",
        "\n",
        "    if num_3 == -1 or num_3 == 0 or num_3 == 1:\n",
        "        break  # Abort the infinite loop\n",
        "    else :\n",
        "        print(\"Oops!  That was no valid number.  Try again by only typing -1,0 or 1...\")\n",
        "        continue\n",
        "\n",
        "\n",
        "\n",
        "\n",
        "#2 community driven roadmap\n",
        "print(\"2. Is the collection's Roadmap heavily community driven?  (1 for yes, -1 for no, type 0 if no information available) \")\n",
        "while True:\n",
        "    try:\n",
        "        num_4 = int(input())\n",
        "    except ValueError:\n",
        "        print(\"Oops!  That was no valid integer.  Try again...\")\n",
        "        continue  # Value error, try again\n",
        "\n",
        "    if num_4 == -1 or num_4 == 0 or num_4 == 1:\n",
        "        break  # Abort the infinite loop\n",
        "    else :\n",
        "        print(\"Oops!  That was no valid number.  Try again by only typing -1,0 or 1...\")\n",
        "        continue\n",
        "\n",
        "\n",
        "#3\n",
        "print(\"3. Does the collection heavily mentioning DAO? (1 for yes, -1 for no, type 0 if no information available) \")\n",
        "while True:\n",
        "    try:\n",
        "        num_5 = int(input())\n",
        "    except ValueError:\n",
        "        print(\"Oops!  That was no valid integer.  Try again...\")\n",
        "        continue  # Value error, try again\n",
        "\n",
        "    if num_5 == -1 or num_5 == 0 or num_5 == 1:\n",
        "        break  # Abort the infinite loop\n",
        "    else :\n",
        "        print(\"Oops!  That was no valid number.  Try again by only typing -1,0 or 1...\")\n",
        "        continue\n",
        "\n",
        "\n",
        "#4\n",
        "print(\"4. Is the collection suspended on OpenSea?  (1 for yes, -1 for no) \")\n",
        "while True:\n",
        "    try:\n",
        "        num_6 = int(input())\n",
        "    except ValueError:\n",
        "        print(\"Oops!  That was no valid integer.  Try again...\")\n",
        "        continue  # Value error, try again\n",
        "\n",
        "    if num_6 == -1 or num_6 == 1:\n",
        "        break  # Abort the infinite loop\n",
        "    else :\n",
        "        print(\"Oops!  That was no valid number.  Try again by only typing -1or 1...\")\n",
        "        continue\n",
        "\n",
        "\n",
        "#5\n",
        "print(\"5. Enter collection's creator earning (enter an nonnegative value (if 5%, enter 5), type -1 if no information available):\")\n",
        "import math\n",
        "while True:\n",
        "    try:\n",
        "        num_7 = float(input())\n",
        "    except ValueError:\n",
        "        print(\"Oops!  That was no valid number.  Try again...\")\n",
        "        continue  # Value error, try again\n",
        "\n",
        "    if math.isclose(-1, num_7) or (num_7 <= 100.0 and num_7>=0.0):\n",
        "        break  # Abort the infinite loop\n",
        "    else :\n",
        "        print(\"Oops!  That was no valid number.  Try again by only typing -1 or number between 0 and 100 (incl.)...\")\n",
        "        continue\n",
        "\n",
        "\n",
        "\n",
        "\n",
        "data2 = {'anonymity': [num_1],'hasAcommunityDrivenRoadmap': [num_2],'mentioningDAO': [num_3],'suspended(OpenSea)': [num_4],'creator earning (%)': [num_5]}\n",
        "userDF_X2 = pd.DataFrame(data2)\n",
        "prob2= SVM.predict_proba(userDF_X)\n",
        "user_RugPull2 = SVM2.predict(userDF_X2)\n",
        "\n",
        "if  user_RugPull2[0] == 1:\n",
        "    print(Name, \"is possibly a Rug Pull!\")\n",
        "    print(\"    Probability\")\n",
        "    print(\"---------------------\")\n",
        "    print(\"is a Rug | not a Rug\")\n",
        "    print(prob2)\n",
        "else:\n",
        "    print(Name, \"is possibly NOT a Rug Pull!\")\n",
        "    print(\"    Probability\")\n",
        "    print(\"---------------------\")\n",
        "    print(\"is a Rug | not a Rug\")\n",
        "    print(prob2)\n",
        "\n"
      ],
      "metadata": {
        "id": "cSi7xFFxAEqn",
        "colab": {
          "base_uri": "https://localhost:8080/",
          "height": 148
        },
        "outputId": "1e0d9c4a-ad01-4761-dac2-ac3c239e7b3c"
      },
      "execution_count": null,
      "outputs": [
        {
          "output_type": "error",
          "ename": "SyntaxError",
          "evalue": "ignored",
          "traceback": [
            "\u001b[0;36m  File \u001b[0;32m\"<ipython-input-9-1570bd4f464f>\"\u001b[0;36m, line \u001b[0;32m1\u001b[0m\n\u001b[0;31m    -# use only anonymity\thasAcommunityDrivenRoadmap\tmentioningDAO\tsuspended(OpenSea)\tcreator earning (%) to train the model\u001b[0m\n\u001b[0m     ^\u001b[0m\n\u001b[0;31mSyntaxError\u001b[0m\u001b[0;31m:\u001b[0m invalid syntax\n"
          ]
        }
      ]
    },
    {
      "cell_type": "code",
      "source": [],
      "metadata": {
        "id": "8rrxSIF5lqAF"
      },
      "execution_count": null,
      "outputs": []
    },
    {
      "cell_type": "markdown",
      "source": [
        "#Evaluation section"
      ],
      "metadata": {
        "id": "uGtqYEpXA8En"
      }
    },
    {
      "cell_type": "markdown",
      "source": [
        "#0.print correlation matrix\n"
      ],
      "metadata": {
        "id": "paQU9Vxnemyh"
      }
    },
    {
      "cell_type": "code",
      "source": [
        "import matplotlib.pyplot as plt\n",
        "\n",
        "f = plt.figure(figsize=(19, 15))\n",
        "plt.matshow(df.corr(), fignum=f.number)\n",
        "plt.xticks(range(df.select_dtypes(['number']).shape[1]), df.select_dtypes(['number']).columns, fontsize=14, rotation=45)\n",
        "plt.yticks(range(df.select_dtypes(['number']).shape[1]), df.select_dtypes(['number']).columns, fontsize=14)\n",
        "cb = plt.colorbar()\n",
        "cb.ax.tick_params(labelsize=14)\n",
        "plt.title('Correlation Matrix', fontsize=16);"
      ],
      "metadata": {
        "id": "L7m8zSxNeqbn"
      },
      "execution_count": null,
      "outputs": []
    },
    {
      "cell_type": "markdown",
      "metadata": {
        "id": "fB3xZ2dBG_tv"
      },
      "source": [
        "#1. Ridge classifier + cross_validation(LOOCV)\n",
        "\n"
      ]
    },
    {
      "cell_type": "code",
      "execution_count": null,
      "metadata": {
        "colab": {
          "base_uri": "https://localhost:8080/"
        },
        "id": "mleu0h9AhlQu",
        "outputId": "06b2e7f7-c7f6-423f-da4c-6363957e446a"
      },
      "outputs": [
        {
          "output_type": "stream",
          "name": "stderr",
          "text": [
            "/usr/local/lib/python3.9/dist-packages/sklearn/linear_model/_ridge.py:1182: DataConversionWarning: A column-vector y was passed when a 1d array was expected. Please change the shape of y to (n_samples, ), for example using ravel().\n",
            "  y = column_or_1d(y, warn=True)\n"
          ]
        },
        {
          "output_type": "execute_result",
          "data": {
            "text/plain": [
              "(array([-1, -1,  1,  1, -1, -1, -1, -1, -1, -1,  1, -1, -1, -1,  1, -1, -1,\n",
              "        -1,  1]),\n",
              "     rug pull\n",
              " 38        -1\n",
              " 49        -1\n",
              " 89         1\n",
              " 13        -1\n",
              " 44        -1\n",
              " 59        -1\n",
              " 35        -1\n",
              " 15        -1\n",
              " 20        -1\n",
              " 7         -1\n",
              " 80         1\n",
              " 16        -1\n",
              " 56        -1\n",
              " 5         -1\n",
              " 0         -1\n",
              " 91         1\n",
              " 72        -1\n",
              " 25        -1\n",
              " 46        -1,\n",
              " 0.7894736842105263)"
            ]
          },
          "metadata": {},
          "execution_count": 7
        }
      ],
      "source": [
        "\n",
        "from sklearn.linear_model import RidgeClassifier\n",
        "from sklearn.model_selection import cross_val_score, cross_val_predict\n",
        "from sklearn import metrics\n",
        "rdg = RidgeClassifier().fit(X_train,y_train)\n",
        "rdg.predict(X_test), y_test, rdg.score(X_test, y_test)\n",
        "\n",
        "\n"
      ]
    },
    {
      "cell_type": "code",
      "execution_count": null,
      "metadata": {
        "id": "3bsjMDCYgPbI",
        "colab": {
          "base_uri": "https://localhost:8080/"
        },
        "outputId": "6dc388e0-18ce-4cd5-d910-bee4af891a86"
      },
      "outputs": [
        {
          "output_type": "stream",
          "name": "stderr",
          "text": [
            "/usr/local/lib/python3.9/dist-packages/sklearn/linear_model/_ridge.py:1182: DataConversionWarning: A column-vector y was passed when a 1d array was expected. Please change the shape of y to (n_samples, ), for example using ravel().\n",
            "  y = column_or_1d(y, warn=True)\n",
            "/usr/local/lib/python3.9/dist-packages/sklearn/linear_model/_ridge.py:1182: DataConversionWarning: A column-vector y was passed when a 1d array was expected. Please change the shape of y to (n_samples, ), for example using ravel().\n",
            "  y = column_or_1d(y, warn=True)\n",
            "/usr/local/lib/python3.9/dist-packages/sklearn/linear_model/_ridge.py:1182: DataConversionWarning: A column-vector y was passed when a 1d array was expected. Please change the shape of y to (n_samples, ), for example using ravel().\n",
            "  y = column_or_1d(y, warn=True)\n",
            "/usr/local/lib/python3.9/dist-packages/sklearn/linear_model/_ridge.py:1182: DataConversionWarning: A column-vector y was passed when a 1d array was expected. Please change the shape of y to (n_samples, ), for example using ravel().\n",
            "  y = column_or_1d(y, warn=True)\n",
            "/usr/local/lib/python3.9/dist-packages/sklearn/linear_model/_ridge.py:1182: DataConversionWarning: A column-vector y was passed when a 1d array was expected. Please change the shape of y to (n_samples, ), for example using ravel().\n",
            "  y = column_or_1d(y, warn=True)\n",
            "/usr/local/lib/python3.9/dist-packages/sklearn/linear_model/_ridge.py:1182: DataConversionWarning: A column-vector y was passed when a 1d array was expected. Please change the shape of y to (n_samples, ), for example using ravel().\n",
            "  y = column_or_1d(y, warn=True)\n",
            "/usr/local/lib/python3.9/dist-packages/sklearn/linear_model/_ridge.py:1182: DataConversionWarning: A column-vector y was passed when a 1d array was expected. Please change the shape of y to (n_samples, ), for example using ravel().\n",
            "  y = column_or_1d(y, warn=True)\n",
            "/usr/local/lib/python3.9/dist-packages/sklearn/linear_model/_ridge.py:1182: DataConversionWarning: A column-vector y was passed when a 1d array was expected. Please change the shape of y to (n_samples, ), for example using ravel().\n",
            "  y = column_or_1d(y, warn=True)\n",
            "/usr/local/lib/python3.9/dist-packages/sklearn/linear_model/_ridge.py:1182: DataConversionWarning: A column-vector y was passed when a 1d array was expected. Please change the shape of y to (n_samples, ), for example using ravel().\n",
            "  y = column_or_1d(y, warn=True)\n",
            "/usr/local/lib/python3.9/dist-packages/sklearn/linear_model/_ridge.py:1182: DataConversionWarning: A column-vector y was passed when a 1d array was expected. Please change the shape of y to (n_samples, ), for example using ravel().\n",
            "  y = column_or_1d(y, warn=True)\n",
            "/usr/local/lib/python3.9/dist-packages/sklearn/linear_model/_ridge.py:1182: DataConversionWarning: A column-vector y was passed when a 1d array was expected. Please change the shape of y to (n_samples, ), for example using ravel().\n",
            "  y = column_or_1d(y, warn=True)\n",
            "/usr/local/lib/python3.9/dist-packages/sklearn/linear_model/_ridge.py:1182: DataConversionWarning: A column-vector y was passed when a 1d array was expected. Please change the shape of y to (n_samples, ), for example using ravel().\n",
            "  y = column_or_1d(y, warn=True)\n",
            "/usr/local/lib/python3.9/dist-packages/sklearn/linear_model/_ridge.py:1182: DataConversionWarning: A column-vector y was passed when a 1d array was expected. Please change the shape of y to (n_samples, ), for example using ravel().\n",
            "  y = column_or_1d(y, warn=True)\n",
            "/usr/local/lib/python3.9/dist-packages/sklearn/linear_model/_ridge.py:1182: DataConversionWarning: A column-vector y was passed when a 1d array was expected. Please change the shape of y to (n_samples, ), for example using ravel().\n",
            "  y = column_or_1d(y, warn=True)\n",
            "/usr/local/lib/python3.9/dist-packages/sklearn/linear_model/_ridge.py:1182: DataConversionWarning: A column-vector y was passed when a 1d array was expected. Please change the shape of y to (n_samples, ), for example using ravel().\n",
            "  y = column_or_1d(y, warn=True)\n"
          ]
        },
        {
          "output_type": "execute_result",
          "data": {
            "text/plain": [
              "(array([0.50434783, 0.72058824, 0.60416667, 0.42424242, 0.4375    ]),\n",
              " array([0.25, 1.  , 0.5 , 0.  , 0.  ]),\n",
              " array([1.        , 0.33333333, 0.25      , 0.        , 0.        ]))"
            ]
          },
          "metadata": {},
          "execution_count": 8
        }
      ],
      "source": [
        "rdg2 = RidgeClassifier()\n",
        "f1_macroRDG2 = cross_val_score(rdg2, X_sc, y_sc, scoring='f1_macro',cv=5)\n",
        "precisionRDG2 = cross_val_score(rdg2, X_sc, y_sc, scoring='precision',cv=5)\n",
        "recallRDG2 = cross_val_score(rdg2, X_sc, y_sc, scoring='recall',cv=5)\n",
        "\n",
        "\n",
        "f1_macroRDG2, precisionRDG2, recallRDG2\n"
      ]
    },
    {
      "cell_type": "markdown",
      "source": [],
      "metadata": {
        "id": "MXmLBJjphgoG"
      }
    },
    {
      "cell_type": "code",
      "execution_count": null,
      "metadata": {
        "colab": {
          "base_uri": "https://localhost:8080/"
        },
        "id": "3_zqN0xhKj_V",
        "outputId": "6c35c65a-e794-4741-e88c-8d967466e932"
      },
      "outputs": [
        {
          "output_type": "stream",
          "name": "stdout",
          "text": [
            "RDG: Confusion Matrix\n",
            "[[ 1  3]\n",
            " [ 0 15]]\n"
          ]
        }
      ],
      "source": [
        "print (\"RDG: Confusion Matrix\")\n",
        "print (\"{0}\".format(metrics.confusion_matrix(y_test, rdg.predict(X_test), labels=[1, -1])))"
      ]
    },
    {
      "cell_type": "code",
      "execution_count": null,
      "metadata": {
        "colab": {
          "base_uri": "https://localhost:8080/"
        },
        "id": "l_x3Yr_kK9Xe",
        "outputId": "a9c808b3-6758-4a4b-f39a-699e492c8743"
      },
      "outputs": [
        {
          "output_type": "stream",
          "name": "stdout",
          "text": [
            "RDG: Classification Report\n",
            "              precision    recall  f1-score   support\n",
            "\n",
            "           1       1.00      0.25      0.40         4\n",
            "          -1       0.83      1.00      0.91        15\n",
            "\n",
            "    accuracy                           0.84        19\n",
            "   macro avg       0.92      0.62      0.65        19\n",
            "weighted avg       0.87      0.84      0.80        19\n",
            "\n"
          ]
        }
      ],
      "source": [
        "print (\"RDG: Classification Report\")\n",
        "\n",
        "print (\"{0}\".format(metrics.classification_report(y_test, rdg.predict(X_test), labels=[1, -1])))"
      ]
    },
    {
      "cell_type": "markdown",
      "metadata": {
        "id": "-x2sPfZ8IbC6"
      },
      "source": [
        "#2. Naive Bayes + LOOC"
      ]
    },
    {
      "cell_type": "code",
      "execution_count": null,
      "metadata": {
        "colab": {
          "base_uri": "https://localhost:8080/"
        },
        "id": "NfH0_5CbIav-",
        "outputId": "2e0a4b6e-c6fd-48c9-b04e-f00c5252e115"
      },
      "outputs": [
        {
          "output_type": "stream",
          "name": "stderr",
          "text": [
            "/usr/local/lib/python3.9/dist-packages/sklearn/utils/validation.py:1143: DataConversionWarning: A column-vector y was passed when a 1d array was expected. Please change the shape of y to (n_samples, ), for example using ravel().\n",
            "  y = column_or_1d(y, warn=True)\n"
          ]
        },
        {
          "output_type": "execute_result",
          "data": {
            "text/plain": [
              "(array([-1, -1,  1, -1, -1, -1, -1, -1,  1, -1,  1, -1,  1, -1, -1, -1,  1,\n",
              "        -1,  1]),\n",
              "     rug pull\n",
              " 38        -1\n",
              " 49        -1\n",
              " 89         1\n",
              " 13        -1\n",
              " 44        -1\n",
              " 59        -1\n",
              " 35        -1\n",
              " 15        -1\n",
              " 20        -1\n",
              " 7         -1\n",
              " 80         1\n",
              " 16        -1\n",
              " 56        -1\n",
              " 5         -1\n",
              " 0         -1\n",
              " 91         1\n",
              " 72        -1\n",
              " 25        -1\n",
              " 46        -1,\n",
              " 0.7368421052631579)"
            ]
          },
          "metadata": {},
          "execution_count": 9
        }
      ],
      "source": [
        "from sklearn.naive_bayes import GaussianNB\n",
        "nb = GaussianNB()\n",
        "\n",
        "nb.fit(X_train, y_train)\n",
        "nb.predict(X_test), y_test, nb.score(X_test, y_test)"
      ]
    },
    {
      "cell_type": "code",
      "source": [
        "nb2 = GaussianNB()\n",
        "f1_macroNB2 = cross_val_score(nb2, X_sc, y_sc, scoring='f1_macro',cv=5)\n",
        "precisionNB2 = cross_val_score(nb2, X_sc, y_sc, scoring='precision',cv=5)\n",
        "recallNB2 = cross_val_score(nb2, X_sc, y_sc, scoring='recall',cv=5)\n",
        "\n",
        "\n",
        "f1_macroNB2, precisionNB2, recallNB2"
      ],
      "metadata": {
        "colab": {
          "base_uri": "https://localhost:8080/"
        },
        "id": "qGtCAufSh33o",
        "outputId": "56e87b38-aca5-4759-a69a-d09a4acc7064"
      },
      "execution_count": null,
      "outputs": [
        {
          "output_type": "stream",
          "name": "stderr",
          "text": [
            "/usr/local/lib/python3.9/dist-packages/sklearn/utils/validation.py:1143: DataConversionWarning: A column-vector y was passed when a 1d array was expected. Please change the shape of y to (n_samples, ), for example using ravel().\n",
            "  y = column_or_1d(y, warn=True)\n",
            "/usr/local/lib/python3.9/dist-packages/sklearn/utils/validation.py:1143: DataConversionWarning: A column-vector y was passed when a 1d array was expected. Please change the shape of y to (n_samples, ), for example using ravel().\n",
            "  y = column_or_1d(y, warn=True)\n",
            "/usr/local/lib/python3.9/dist-packages/sklearn/utils/validation.py:1143: DataConversionWarning: A column-vector y was passed when a 1d array was expected. Please change the shape of y to (n_samples, ), for example using ravel().\n",
            "  y = column_or_1d(y, warn=True)\n",
            "/usr/local/lib/python3.9/dist-packages/sklearn/utils/validation.py:1143: DataConversionWarning: A column-vector y was passed when a 1d array was expected. Please change the shape of y to (n_samples, ), for example using ravel().\n",
            "  y = column_or_1d(y, warn=True)\n",
            "/usr/local/lib/python3.9/dist-packages/sklearn/utils/validation.py:1143: DataConversionWarning: A column-vector y was passed when a 1d array was expected. Please change the shape of y to (n_samples, ), for example using ravel().\n",
            "  y = column_or_1d(y, warn=True)\n",
            "/usr/local/lib/python3.9/dist-packages/sklearn/utils/validation.py:1143: DataConversionWarning: A column-vector y was passed when a 1d array was expected. Please change the shape of y to (n_samples, ), for example using ravel().\n",
            "  y = column_or_1d(y, warn=True)\n",
            "/usr/local/lib/python3.9/dist-packages/sklearn/utils/validation.py:1143: DataConversionWarning: A column-vector y was passed when a 1d array was expected. Please change the shape of y to (n_samples, ), for example using ravel().\n",
            "  y = column_or_1d(y, warn=True)\n",
            "/usr/local/lib/python3.9/dist-packages/sklearn/utils/validation.py:1143: DataConversionWarning: A column-vector y was passed when a 1d array was expected. Please change the shape of y to (n_samples, ), for example using ravel().\n",
            "  y = column_or_1d(y, warn=True)\n",
            "/usr/local/lib/python3.9/dist-packages/sklearn/utils/validation.py:1143: DataConversionWarning: A column-vector y was passed when a 1d array was expected. Please change the shape of y to (n_samples, ), for example using ravel().\n",
            "  y = column_or_1d(y, warn=True)\n",
            "/usr/local/lib/python3.9/dist-packages/sklearn/utils/validation.py:1143: DataConversionWarning: A column-vector y was passed when a 1d array was expected. Please change the shape of y to (n_samples, ), for example using ravel().\n",
            "  y = column_or_1d(y, warn=True)\n",
            "/usr/local/lib/python3.9/dist-packages/sklearn/utils/validation.py:1143: DataConversionWarning: A column-vector y was passed when a 1d array was expected. Please change the shape of y to (n_samples, ), for example using ravel().\n",
            "  y = column_or_1d(y, warn=True)\n",
            "/usr/local/lib/python3.9/dist-packages/sklearn/utils/validation.py:1143: DataConversionWarning: A column-vector y was passed when a 1d array was expected. Please change the shape of y to (n_samples, ), for example using ravel().\n",
            "  y = column_or_1d(y, warn=True)\n",
            "/usr/local/lib/python3.9/dist-packages/sklearn/utils/validation.py:1143: DataConversionWarning: A column-vector y was passed when a 1d array was expected. Please change the shape of y to (n_samples, ), for example using ravel().\n",
            "  y = column_or_1d(y, warn=True)\n",
            "/usr/local/lib/python3.9/dist-packages/sklearn/utils/validation.py:1143: DataConversionWarning: A column-vector y was passed when a 1d array was expected. Please change the shape of y to (n_samples, ), for example using ravel().\n",
            "  y = column_or_1d(y, warn=True)\n",
            "/usr/local/lib/python3.9/dist-packages/sklearn/utils/validation.py:1143: DataConversionWarning: A column-vector y was passed when a 1d array was expected. Please change the shape of y to (n_samples, ), for example using ravel().\n",
            "  y = column_or_1d(y, warn=True)\n"
          ]
        },
        {
          "output_type": "execute_result",
          "data": {
            "text/plain": [
              "(array([0.20168067, 0.63461538, 0.75641026, 0.61449275, 0.35714286]),\n",
              " array([0.16666667, 0.33333333, 0.5       , 0.36363636, 0.        ]),\n",
              " array([1., 1., 1., 1., 0.]))"
            ]
          },
          "metadata": {},
          "execution_count": 10
        }
      ]
    },
    {
      "cell_type": "code",
      "execution_count": null,
      "metadata": {
        "colab": {
          "base_uri": "https://localhost:8080/"
        },
        "id": "IQKQDJ5vLMUt",
        "outputId": "b0b0fb02-771a-4f2f-86c2-7ee5ad61f723"
      },
      "outputs": [
        {
          "output_type": "stream",
          "name": "stdout",
          "text": [
            "NB: Confusion Matrix\n",
            "[[ 2  1]\n",
            " [ 4 12]]\n"
          ]
        }
      ],
      "source": [
        "print (\"NB: Confusion Matrix\")\n",
        "print (\"{0}\".format(metrics.confusion_matrix(y_test, nb.predict(X_test), labels=[1, -1])))"
      ]
    },
    {
      "cell_type": "code",
      "execution_count": null,
      "metadata": {
        "colab": {
          "base_uri": "https://localhost:8080/"
        },
        "id": "v_yRo5HgLUn4",
        "outputId": "8272969b-b438-46ea-de8b-0e96d3a23177"
      },
      "outputs": [
        {
          "output_type": "stream",
          "name": "stdout",
          "text": [
            "NB: Classification Report\n",
            "              precision    recall  f1-score   support\n",
            "\n",
            "           1       0.33      0.67      0.44         3\n",
            "          -1       0.92      0.75      0.83        16\n",
            "\n",
            "    accuracy                           0.74        19\n",
            "   macro avg       0.63      0.71      0.64        19\n",
            "weighted avg       0.83      0.74      0.77        19\n",
            "\n"
          ]
        }
      ],
      "source": [
        "print (\"NB: Classification Report\")\n",
        "\n",
        "print (\"{0}\".format(metrics.classification_report(y_test, nb.predict(X_test), labels=[1, -1])))"
      ]
    },
    {
      "cell_type": "markdown",
      "metadata": {
        "id": "xMdVyFaeHD3y"
      },
      "source": [
        "#3. Logistic Regression + LOOC\n"
      ]
    },
    {
      "cell_type": "code",
      "execution_count": null,
      "metadata": {
        "colab": {
          "base_uri": "https://localhost:8080/"
        },
        "id": "95rPPF19HXTo",
        "outputId": "39f51c31-4f55-41e0-f10c-3e72cefc3b32"
      },
      "outputs": [
        {
          "output_type": "stream",
          "name": "stderr",
          "text": [
            "/usr/local/lib/python3.9/dist-packages/sklearn/utils/validation.py:1143: DataConversionWarning: A column-vector y was passed when a 1d array was expected. Please change the shape of y to (n_samples, ), for example using ravel().\n",
            "  y = column_or_1d(y, warn=True)\n",
            "/usr/local/lib/python3.9/dist-packages/sklearn/linear_model/_logistic.py:458: ConvergenceWarning: lbfgs failed to converge (status=1):\n",
            "STOP: TOTAL NO. of ITERATIONS REACHED LIMIT.\n",
            "\n",
            "Increase the number of iterations (max_iter) or scale the data as shown in:\n",
            "    https://scikit-learn.org/stable/modules/preprocessing.html\n",
            "Please also refer to the documentation for alternative solver options:\n",
            "    https://scikit-learn.org/stable/modules/linear_model.html#logistic-regression\n",
            "  n_iter_i = _check_optimize_result(\n"
          ]
        },
        {
          "output_type": "execute_result",
          "data": {
            "text/plain": [
              "(array([-1, -1,  1, -1, -1, -1, -1, -1, -1, -1,  1, -1, -1, -1,  1, -1, -1,\n",
              "        -1,  1]),\n",
              "     rug pull\n",
              " 38        -1\n",
              " 49        -1\n",
              " 89         1\n",
              " 13        -1\n",
              " 44        -1\n",
              " 59        -1\n",
              " 35        -1\n",
              " 15        -1\n",
              " 20        -1\n",
              " 7         -1\n",
              " 80         1\n",
              " 16        -1\n",
              " 56        -1\n",
              " 5         -1\n",
              " 0         -1\n",
              " 91         1\n",
              " 72        -1\n",
              " 25        -1\n",
              " 46        -1,\n",
              " 0.8421052631578947)"
            ]
          },
          "metadata": {},
          "execution_count": 13
        }
      ],
      "source": [
        "from sklearn.linear_model import LogisticRegression\n",
        "\n",
        "lr = LogisticRegression(C=0.7, random_state=42)\n",
        "lr.fit(X_train, y_train)\n",
        "lr.predict(X_test), y_test, lr.score(X_test, y_test)"
      ]
    },
    {
      "cell_type": "code",
      "source": [
        "lr2 = LogisticRegression(C=0.7, random_state=42)\n",
        "\n",
        "f1_macroLR2 = cross_val_score(lr2, X_sc, y_sc, scoring='f1_macro',cv=5)\n",
        "precisionLR2 = cross_val_score(lr2, X_sc, y_sc, scoring='precision',cv=5)\n",
        "recallLR2 = cross_val_score(lr2, X_sc, y_sc, scoring='recall',cv=5)\n",
        "\n",
        "\n",
        "f1_macroLR2, precisionLR2, recallLR2"
      ],
      "metadata": {
        "colab": {
          "base_uri": "https://localhost:8080/"
        },
        "id": "_pTgEPKliDYB",
        "outputId": "3dccb5be-63bc-4219-bce8-41bcc927e839"
      },
      "execution_count": null,
      "outputs": [
        {
          "output_type": "stream",
          "name": "stderr",
          "text": [
            "/usr/local/lib/python3.9/dist-packages/sklearn/utils/validation.py:1143: DataConversionWarning: A column-vector y was passed when a 1d array was expected. Please change the shape of y to (n_samples, ), for example using ravel().\n",
            "  y = column_or_1d(y, warn=True)\n",
            "/usr/local/lib/python3.9/dist-packages/sklearn/linear_model/_logistic.py:458: ConvergenceWarning: lbfgs failed to converge (status=1):\n",
            "STOP: TOTAL NO. of ITERATIONS REACHED LIMIT.\n",
            "\n",
            "Increase the number of iterations (max_iter) or scale the data as shown in:\n",
            "    https://scikit-learn.org/stable/modules/preprocessing.html\n",
            "Please also refer to the documentation for alternative solver options:\n",
            "    https://scikit-learn.org/stable/modules/linear_model.html#logistic-regression\n",
            "  n_iter_i = _check_optimize_result(\n",
            "/usr/local/lib/python3.9/dist-packages/sklearn/utils/validation.py:1143: DataConversionWarning: A column-vector y was passed when a 1d array was expected. Please change the shape of y to (n_samples, ), for example using ravel().\n",
            "  y = column_or_1d(y, warn=True)\n",
            "/usr/local/lib/python3.9/dist-packages/sklearn/linear_model/_logistic.py:458: ConvergenceWarning: lbfgs failed to converge (status=1):\n",
            "STOP: TOTAL NO. of ITERATIONS REACHED LIMIT.\n",
            "\n",
            "Increase the number of iterations (max_iter) or scale the data as shown in:\n",
            "    https://scikit-learn.org/stable/modules/preprocessing.html\n",
            "Please also refer to the documentation for alternative solver options:\n",
            "    https://scikit-learn.org/stable/modules/linear_model.html#logistic-regression\n",
            "  n_iter_i = _check_optimize_result(\n",
            "/usr/local/lib/python3.9/dist-packages/sklearn/utils/validation.py:1143: DataConversionWarning: A column-vector y was passed when a 1d array was expected. Please change the shape of y to (n_samples, ), for example using ravel().\n",
            "  y = column_or_1d(y, warn=True)\n",
            "/usr/local/lib/python3.9/dist-packages/sklearn/utils/validation.py:1143: DataConversionWarning: A column-vector y was passed when a 1d array was expected. Please change the shape of y to (n_samples, ), for example using ravel().\n",
            "  y = column_or_1d(y, warn=True)\n",
            "/usr/local/lib/python3.9/dist-packages/sklearn/linear_model/_logistic.py:458: ConvergenceWarning: lbfgs failed to converge (status=1):\n",
            "STOP: TOTAL NO. of ITERATIONS REACHED LIMIT.\n",
            "\n",
            "Increase the number of iterations (max_iter) or scale the data as shown in:\n",
            "    https://scikit-learn.org/stable/modules/preprocessing.html\n",
            "Please also refer to the documentation for alternative solver options:\n",
            "    https://scikit-learn.org/stable/modules/linear_model.html#logistic-regression\n",
            "  n_iter_i = _check_optimize_result(\n",
            "/usr/local/lib/python3.9/dist-packages/sklearn/utils/validation.py:1143: DataConversionWarning: A column-vector y was passed when a 1d array was expected. Please change the shape of y to (n_samples, ), for example using ravel().\n",
            "  y = column_or_1d(y, warn=True)\n",
            "/usr/local/lib/python3.9/dist-packages/sklearn/linear_model/_logistic.py:458: ConvergenceWarning: lbfgs failed to converge (status=1):\n",
            "STOP: TOTAL NO. of ITERATIONS REACHED LIMIT.\n",
            "\n",
            "Increase the number of iterations (max_iter) or scale the data as shown in:\n",
            "    https://scikit-learn.org/stable/modules/preprocessing.html\n",
            "Please also refer to the documentation for alternative solver options:\n",
            "    https://scikit-learn.org/stable/modules/linear_model.html#logistic-regression\n",
            "  n_iter_i = _check_optimize_result(\n",
            "/usr/local/lib/python3.9/dist-packages/sklearn/utils/validation.py:1143: DataConversionWarning: A column-vector y was passed when a 1d array was expected. Please change the shape of y to (n_samples, ), for example using ravel().\n",
            "  y = column_or_1d(y, warn=True)\n",
            "/usr/local/lib/python3.9/dist-packages/sklearn/linear_model/_logistic.py:458: ConvergenceWarning: lbfgs failed to converge (status=1):\n",
            "STOP: TOTAL NO. of ITERATIONS REACHED LIMIT.\n",
            "\n",
            "Increase the number of iterations (max_iter) or scale the data as shown in:\n",
            "    https://scikit-learn.org/stable/modules/preprocessing.html\n",
            "Please also refer to the documentation for alternative solver options:\n",
            "    https://scikit-learn.org/stable/modules/linear_model.html#logistic-regression\n",
            "  n_iter_i = _check_optimize_result(\n",
            "/usr/local/lib/python3.9/dist-packages/sklearn/utils/validation.py:1143: DataConversionWarning: A column-vector y was passed when a 1d array was expected. Please change the shape of y to (n_samples, ), for example using ravel().\n",
            "  y = column_or_1d(y, warn=True)\n",
            "/usr/local/lib/python3.9/dist-packages/sklearn/linear_model/_logistic.py:458: ConvergenceWarning: lbfgs failed to converge (status=1):\n",
            "STOP: TOTAL NO. of ITERATIONS REACHED LIMIT.\n",
            "\n",
            "Increase the number of iterations (max_iter) or scale the data as shown in:\n",
            "    https://scikit-learn.org/stable/modules/preprocessing.html\n",
            "Please also refer to the documentation for alternative solver options:\n",
            "    https://scikit-learn.org/stable/modules/linear_model.html#logistic-regression\n",
            "  n_iter_i = _check_optimize_result(\n",
            "/usr/local/lib/python3.9/dist-packages/sklearn/utils/validation.py:1143: DataConversionWarning: A column-vector y was passed when a 1d array was expected. Please change the shape of y to (n_samples, ), for example using ravel().\n",
            "  y = column_or_1d(y, warn=True)\n",
            "/usr/local/lib/python3.9/dist-packages/sklearn/utils/validation.py:1143: DataConversionWarning: A column-vector y was passed when a 1d array was expected. Please change the shape of y to (n_samples, ), for example using ravel().\n",
            "  y = column_or_1d(y, warn=True)\n",
            "/usr/local/lib/python3.9/dist-packages/sklearn/linear_model/_logistic.py:458: ConvergenceWarning: lbfgs failed to converge (status=1):\n",
            "STOP: TOTAL NO. of ITERATIONS REACHED LIMIT.\n",
            "\n",
            "Increase the number of iterations (max_iter) or scale the data as shown in:\n",
            "    https://scikit-learn.org/stable/modules/preprocessing.html\n",
            "Please also refer to the documentation for alternative solver options:\n",
            "    https://scikit-learn.org/stable/modules/linear_model.html#logistic-regression\n",
            "  n_iter_i = _check_optimize_result(\n",
            "/usr/local/lib/python3.9/dist-packages/sklearn/utils/validation.py:1143: DataConversionWarning: A column-vector y was passed when a 1d array was expected. Please change the shape of y to (n_samples, ), for example using ravel().\n",
            "  y = column_or_1d(y, warn=True)\n",
            "/usr/local/lib/python3.9/dist-packages/sklearn/linear_model/_logistic.py:458: ConvergenceWarning: lbfgs failed to converge (status=1):\n",
            "STOP: TOTAL NO. of ITERATIONS REACHED LIMIT.\n",
            "\n",
            "Increase the number of iterations (max_iter) or scale the data as shown in:\n",
            "    https://scikit-learn.org/stable/modules/preprocessing.html\n",
            "Please also refer to the documentation for alternative solver options:\n",
            "    https://scikit-learn.org/stable/modules/linear_model.html#logistic-regression\n",
            "  n_iter_i = _check_optimize_result(\n",
            "/usr/local/lib/python3.9/dist-packages/sklearn/utils/validation.py:1143: DataConversionWarning: A column-vector y was passed when a 1d array was expected. Please change the shape of y to (n_samples, ), for example using ravel().\n",
            "  y = column_or_1d(y, warn=True)\n",
            "/usr/local/lib/python3.9/dist-packages/sklearn/linear_model/_logistic.py:458: ConvergenceWarning: lbfgs failed to converge (status=1):\n",
            "STOP: TOTAL NO. of ITERATIONS REACHED LIMIT.\n",
            "\n",
            "Increase the number of iterations (max_iter) or scale the data as shown in:\n",
            "    https://scikit-learn.org/stable/modules/preprocessing.html\n",
            "Please also refer to the documentation for alternative solver options:\n",
            "    https://scikit-learn.org/stable/modules/linear_model.html#logistic-regression\n",
            "  n_iter_i = _check_optimize_result(\n",
            "/usr/local/lib/python3.9/dist-packages/sklearn/utils/validation.py:1143: DataConversionWarning: A column-vector y was passed when a 1d array was expected. Please change the shape of y to (n_samples, ), for example using ravel().\n",
            "  y = column_or_1d(y, warn=True)\n",
            "/usr/local/lib/python3.9/dist-packages/sklearn/linear_model/_logistic.py:458: ConvergenceWarning: lbfgs failed to converge (status=1):\n",
            "STOP: TOTAL NO. of ITERATIONS REACHED LIMIT.\n",
            "\n",
            "Increase the number of iterations (max_iter) or scale the data as shown in:\n",
            "    https://scikit-learn.org/stable/modules/preprocessing.html\n",
            "Please also refer to the documentation for alternative solver options:\n",
            "    https://scikit-learn.org/stable/modules/linear_model.html#logistic-regression\n",
            "  n_iter_i = _check_optimize_result(\n",
            "/usr/local/lib/python3.9/dist-packages/sklearn/utils/validation.py:1143: DataConversionWarning: A column-vector y was passed when a 1d array was expected. Please change the shape of y to (n_samples, ), for example using ravel().\n",
            "  y = column_or_1d(y, warn=True)\n",
            "/usr/local/lib/python3.9/dist-packages/sklearn/utils/validation.py:1143: DataConversionWarning: A column-vector y was passed when a 1d array was expected. Please change the shape of y to (n_samples, ), for example using ravel().\n",
            "  y = column_or_1d(y, warn=True)\n",
            "/usr/local/lib/python3.9/dist-packages/sklearn/linear_model/_logistic.py:458: ConvergenceWarning: lbfgs failed to converge (status=1):\n",
            "STOP: TOTAL NO. of ITERATIONS REACHED LIMIT.\n",
            "\n",
            "Increase the number of iterations (max_iter) or scale the data as shown in:\n",
            "    https://scikit-learn.org/stable/modules/preprocessing.html\n",
            "Please also refer to the documentation for alternative solver options:\n",
            "    https://scikit-learn.org/stable/modules/linear_model.html#logistic-regression\n",
            "  n_iter_i = _check_optimize_result(\n",
            "/usr/local/lib/python3.9/dist-packages/sklearn/utils/validation.py:1143: DataConversionWarning: A column-vector y was passed when a 1d array was expected. Please change the shape of y to (n_samples, ), for example using ravel().\n",
            "  y = column_or_1d(y, warn=True)\n",
            "/usr/local/lib/python3.9/dist-packages/sklearn/linear_model/_logistic.py:458: ConvergenceWarning: lbfgs failed to converge (status=1):\n",
            "STOP: TOTAL NO. of ITERATIONS REACHED LIMIT.\n",
            "\n",
            "Increase the number of iterations (max_iter) or scale the data as shown in:\n",
            "    https://scikit-learn.org/stable/modules/preprocessing.html\n",
            "Please also refer to the documentation for alternative solver options:\n",
            "    https://scikit-learn.org/stable/modules/linear_model.html#logistic-regression\n",
            "  n_iter_i = _check_optimize_result(\n"
          ]
        },
        {
          "output_type": "execute_result",
          "data": {
            "text/plain": [
              "(array([0.54761905, 0.9124424 , 0.73732719, 0.40625   , 0.41935484]),\n",
              " array([0.27272727, 0.75      , 0.66666667, 0.        , 0.        ]),\n",
              " array([1. , 1. , 0.5, 0. , 0. ]))"
            ]
          },
          "metadata": {},
          "execution_count": 14
        }
      ]
    },
    {
      "cell_type": "code",
      "execution_count": null,
      "metadata": {
        "colab": {
          "base_uri": "https://localhost:8080/"
        },
        "id": "khQhVJIALhN8",
        "outputId": "a427b728-6602-43a0-aba4-2ab41b3f8f9d"
      },
      "outputs": [
        {
          "output_type": "stream",
          "name": "stdout",
          "text": [
            "LR: Confusion Matrix\n",
            "[[ 2  1]\n",
            " [ 2 14]]\n"
          ]
        }
      ],
      "source": [
        "print (\"LR: Confusion Matrix\")\n",
        "print (\"{0}\".format(metrics.confusion_matrix(y_test, lr.predict(X_test), labels=[1, -1])))"
      ]
    },
    {
      "cell_type": "code",
      "execution_count": null,
      "metadata": {
        "colab": {
          "base_uri": "https://localhost:8080/"
        },
        "id": "-HjyMUldLnO-",
        "outputId": "8e44f974-2e23-45a0-fa6e-a2e84b4e36fd"
      },
      "outputs": [
        {
          "output_type": "stream",
          "name": "stdout",
          "text": [
            "LR: Classification Report\n",
            "              precision    recall  f1-score   support\n",
            "\n",
            "           1       0.50      0.67      0.57         3\n",
            "          -1       0.93      0.88      0.90        16\n",
            "\n",
            "    accuracy                           0.84        19\n",
            "   macro avg       0.72      0.77      0.74        19\n",
            "weighted avg       0.86      0.84      0.85        19\n",
            "\n"
          ]
        }
      ],
      "source": [
        "print (\"LR: Classification Report\")\n",
        "\n",
        "print (\"{0}\".format(metrics.classification_report(y_test, lr.predict(X_test), labels=[1, -1])))"
      ]
    },
    {
      "cell_type": "markdown",
      "metadata": {
        "id": "h9c3xggWItHK"
      },
      "source": [
        "#4. Support vector Machine + LOOC"
      ]
    },
    {
      "cell_type": "code",
      "execution_count": null,
      "metadata": {
        "colab": {
          "base_uri": "https://localhost:8080/"
        },
        "id": "LZcM0DKwIr_m",
        "outputId": "dac22d43-f737-4f8d-80d9-b7ac6ea4dffa"
      },
      "outputs": [
        {
          "output_type": "execute_result",
          "data": {
            "text/plain": [
              "(array([-1, -1,  1, -1, -1, -1, -1, -1, -1, -1,  1, -1, -1, -1,  1, -1, -1,\n",
              "        -1, -1]),\n",
              " 0.8947368421052632)"
            ]
          },
          "metadata": {},
          "execution_count": 54
        }
      ],
      "source": [
        "from sklearn.svm import SVC\n",
        "svm = SVC(kernel='linear', C=1, random_state=42)\n",
        "\n",
        "svm.fit(X_train, y_train.values.ravel())\n",
        "svm.predict(X_test), svm.score(X_test, y_test)"
      ]
    },
    {
      "cell_type": "code",
      "source": [
        "svm2 = SVC(kernel='linear', C=1, random_state=42)\n",
        "\n",
        "f1_macroSVM2 = cross_val_score(svm2, X_sc, y_sc, scoring='f1_macro',cv=5)\n",
        "precisionSVM2 = cross_val_score(svm2, X_sc, y_sc, scoring='precision',cv=5)\n",
        "recallSVM2 = cross_val_score(svm2, X_sc, y_sc, scoring='recall',cv=5)\n",
        "\n",
        "\n",
        "f1_macroSVM2, precisionSVM2, recallSVM2"
      ],
      "metadata": {
        "colab": {
          "base_uri": "https://localhost:8080/"
        },
        "id": "UNKMdoheiSNi",
        "outputId": "9f209a14-f4f5-496e-ca7e-9ab5ab4cb8d1"
      },
      "execution_count": null,
      "outputs": [
        {
          "output_type": "stream",
          "name": "stderr",
          "text": [
            "/usr/local/lib/python3.9/dist-packages/sklearn/utils/validation.py:1143: DataConversionWarning: A column-vector y was passed when a 1d array was expected. Please change the shape of y to (n_samples, ), for example using ravel().\n",
            "  y = column_or_1d(y, warn=True)\n",
            "/usr/local/lib/python3.9/dist-packages/sklearn/utils/validation.py:1143: DataConversionWarning: A column-vector y was passed when a 1d array was expected. Please change the shape of y to (n_samples, ), for example using ravel().\n",
            "  y = column_or_1d(y, warn=True)\n",
            "/usr/local/lib/python3.9/dist-packages/sklearn/utils/validation.py:1143: DataConversionWarning: A column-vector y was passed when a 1d array was expected. Please change the shape of y to (n_samples, ), for example using ravel().\n",
            "  y = column_or_1d(y, warn=True)\n",
            "/usr/local/lib/python3.9/dist-packages/sklearn/utils/validation.py:1143: DataConversionWarning: A column-vector y was passed when a 1d array was expected. Please change the shape of y to (n_samples, ), for example using ravel().\n",
            "  y = column_or_1d(y, warn=True)\n",
            "/usr/local/lib/python3.9/dist-packages/sklearn/utils/validation.py:1143: DataConversionWarning: A column-vector y was passed when a 1d array was expected. Please change the shape of y to (n_samples, ), for example using ravel().\n",
            "  y = column_or_1d(y, warn=True)\n",
            "/usr/local/lib/python3.9/dist-packages/sklearn/utils/validation.py:1143: DataConversionWarning: A column-vector y was passed when a 1d array was expected. Please change the shape of y to (n_samples, ), for example using ravel().\n",
            "  y = column_or_1d(y, warn=True)\n",
            "/usr/local/lib/python3.9/dist-packages/sklearn/utils/validation.py:1143: DataConversionWarning: A column-vector y was passed when a 1d array was expected. Please change the shape of y to (n_samples, ), for example using ravel().\n",
            "  y = column_or_1d(y, warn=True)\n",
            "/usr/local/lib/python3.9/dist-packages/sklearn/utils/validation.py:1143: DataConversionWarning: A column-vector y was passed when a 1d array was expected. Please change the shape of y to (n_samples, ), for example using ravel().\n",
            "  y = column_or_1d(y, warn=True)\n",
            "/usr/local/lib/python3.9/dist-packages/sklearn/utils/validation.py:1143: DataConversionWarning: A column-vector y was passed when a 1d array was expected. Please change the shape of y to (n_samples, ), for example using ravel().\n",
            "  y = column_or_1d(y, warn=True)\n",
            "/usr/local/lib/python3.9/dist-packages/sklearn/utils/validation.py:1143: DataConversionWarning: A column-vector y was passed when a 1d array was expected. Please change the shape of y to (n_samples, ), for example using ravel().\n",
            "  y = column_or_1d(y, warn=True)\n",
            "/usr/local/lib/python3.9/dist-packages/sklearn/utils/validation.py:1143: DataConversionWarning: A column-vector y was passed when a 1d array was expected. Please change the shape of y to (n_samples, ), for example using ravel().\n",
            "  y = column_or_1d(y, warn=True)\n",
            "/usr/local/lib/python3.9/dist-packages/sklearn/utils/validation.py:1143: DataConversionWarning: A column-vector y was passed when a 1d array was expected. Please change the shape of y to (n_samples, ), for example using ravel().\n",
            "  y = column_or_1d(y, warn=True)\n",
            "/usr/local/lib/python3.9/dist-packages/sklearn/utils/validation.py:1143: DataConversionWarning: A column-vector y was passed when a 1d array was expected. Please change the shape of y to (n_samples, ), for example using ravel().\n",
            "  y = column_or_1d(y, warn=True)\n",
            "/usr/local/lib/python3.9/dist-packages/sklearn/utils/validation.py:1143: DataConversionWarning: A column-vector y was passed when a 1d array was expected. Please change the shape of y to (n_samples, ), for example using ravel().\n",
            "  y = column_or_1d(y, warn=True)\n",
            "/usr/local/lib/python3.9/dist-packages/sklearn/utils/validation.py:1143: DataConversionWarning: A column-vector y was passed when a 1d array was expected. Please change the shape of y to (n_samples, ), for example using ravel().\n",
            "  y = column_or_1d(y, warn=True)\n"
          ]
        },
        {
          "output_type": "execute_result",
          "data": {
            "text/plain": [
              "(array([0.63461538, 0.9124424 , 0.80208333, 0.42424242, 0.4375    ]),\n",
              " array([0.33333333, 0.75      , 1.        , 0.        , 0.        ]),\n",
              " array([1. , 1. , 0.5, 0. , 0. ]))"
            ]
          },
          "metadata": {},
          "execution_count": 18
        }
      ]
    },
    {
      "cell_type": "code",
      "execution_count": null,
      "metadata": {
        "colab": {
          "base_uri": "https://localhost:8080/"
        },
        "id": "S-SNtws3NThe",
        "outputId": "54a9b8cb-fd51-4513-b512-18accb775664"
      },
      "outputs": [
        {
          "output_type": "stream",
          "name": "stdout",
          "text": [
            "SVM: Confusion Matrix\n",
            "[[ 2  1]\n",
            " [ 1 15]]\n"
          ]
        }
      ],
      "source": [
        "print (\"SVM: Confusion Matrix\")\n",
        "print (\"{0}\".format(metrics.confusion_matrix(y_test, svm.predict(X_test), labels=[1, -1])))"
      ]
    },
    {
      "cell_type": "code",
      "execution_count": null,
      "metadata": {
        "colab": {
          "base_uri": "https://localhost:8080/"
        },
        "id": "vzYsKTw4NX8x",
        "outputId": "a4731b39-2e98-48cb-a0f2-a6f669845806"
      },
      "outputs": [
        {
          "output_type": "stream",
          "name": "stdout",
          "text": [
            "SVM: Classification Report\n",
            "              precision    recall  f1-score   support\n",
            "\n",
            "           1       0.67      0.67      0.67         3\n",
            "          -1       0.94      0.94      0.94        16\n",
            "\n",
            "    accuracy                           0.89        19\n",
            "   macro avg       0.80      0.80      0.80        19\n",
            "weighted avg       0.89      0.89      0.89        19\n",
            "\n"
          ]
        }
      ],
      "source": [
        "print (\"SVM: Classification Report\")\n",
        "\n",
        "print (\"{0}\".format(metrics.classification_report(y_test, svm.predict(X_test), labels=[1, -1])))"
      ]
    },
    {
      "cell_type": "markdown",
      "metadata": {
        "id": "rpx05PXuIry4"
      },
      "source": [
        "#5. MLP classifier +LOOC"
      ]
    },
    {
      "cell_type": "code",
      "execution_count": null,
      "metadata": {
        "colab": {
          "base_uri": "https://localhost:8080/"
        },
        "id": "sA2_7TaHJA54",
        "outputId": "d08f317e-7f7e-4976-c64a-6dad2ebaf44c"
      },
      "outputs": [
        {
          "output_type": "execute_result",
          "data": {
            "text/plain": [
              "(array([-1, -1, -1, -1, -1,  1, -1, -1, -1, -1, -1, -1, -1, -1, -1, -1, -1,\n",
              "        -1, -1]),\n",
              "     rug pull\n",
              " 38        -1\n",
              " 49        -1\n",
              " 89         1\n",
              " 13        -1\n",
              " 44        -1\n",
              " 59        -1\n",
              " 35        -1\n",
              " 15        -1\n",
              " 20        -1\n",
              " 7         -1\n",
              " 80         1\n",
              " 16        -1\n",
              " 56        -1\n",
              " 5         -1\n",
              " 0         -1\n",
              " 91         1\n",
              " 72        -1\n",
              " 25        -1\n",
              " 46        -1,\n",
              " 0.7894736842105263)"
            ]
          },
          "metadata": {},
          "execution_count": 21
        }
      ],
      "source": [
        "from sklearn.neural_network import MLPClassifier\n",
        "ann = MLPClassifier(hidden_layer_sizes=(13,13,13),max_iter=500, random_state=42)\n",
        "\n",
        "ann.fit(X_train, y_train.values.ravel())\n",
        "ann.predict(X_test), y_test, ann.score(X_test, y_test)\n"
      ]
    },
    {
      "cell_type": "code",
      "source": [
        "ann2 = MLPClassifier(hidden_layer_sizes=(13,13,13),max_iter=500, random_state=42)\n",
        "\n",
        "f1_macroMLP2 = cross_val_score(ann2, X_sc, y_sc, scoring='f1_macro',cv=5)\n",
        "precisionMLP2 = cross_val_score(ann2, X_sc, y_sc, scoring='precision',cv=5)\n",
        "recallMLP2 = cross_val_score(ann2, X_sc, y_sc, scoring='recall',cv=5)\n",
        "\n",
        "\n",
        "f1_macroMLP2, precisionMLP2, recallMLP2"
      ],
      "metadata": {
        "colab": {
          "base_uri": "https://localhost:8080/"
        },
        "id": "lJ98TDM_id45",
        "outputId": "3b392439-4e5d-496d-d474-f41714449931"
      },
      "execution_count": null,
      "outputs": [
        {
          "output_type": "stream",
          "name": "stderr",
          "text": [
            "/usr/local/lib/python3.9/dist-packages/sklearn/neural_network/_multilayer_perceptron.py:1098: DataConversionWarning: A column-vector y was passed when a 1d array was expected. Please change the shape of y to (n_samples, ), for example using ravel().\n",
            "  y = column_or_1d(y, warn=True)\n",
            "/usr/local/lib/python3.9/dist-packages/sklearn/neural_network/_multilayer_perceptron.py:1098: DataConversionWarning: A column-vector y was passed when a 1d array was expected. Please change the shape of y to (n_samples, ), for example using ravel().\n",
            "  y = column_or_1d(y, warn=True)\n",
            "/usr/local/lib/python3.9/dist-packages/sklearn/neural_network/_multilayer_perceptron.py:1098: DataConversionWarning: A column-vector y was passed when a 1d array was expected. Please change the shape of y to (n_samples, ), for example using ravel().\n",
            "  y = column_or_1d(y, warn=True)\n",
            "/usr/local/lib/python3.9/dist-packages/sklearn/neural_network/_multilayer_perceptron.py:1098: DataConversionWarning: A column-vector y was passed when a 1d array was expected. Please change the shape of y to (n_samples, ), for example using ravel().\n",
            "  y = column_or_1d(y, warn=True)\n",
            "/usr/local/lib/python3.9/dist-packages/sklearn/neural_network/_multilayer_perceptron.py:1098: DataConversionWarning: A column-vector y was passed when a 1d array was expected. Please change the shape of y to (n_samples, ), for example using ravel().\n",
            "  y = column_or_1d(y, warn=True)\n",
            "/usr/local/lib/python3.9/dist-packages/sklearn/neural_network/_multilayer_perceptron.py:1098: DataConversionWarning: A column-vector y was passed when a 1d array was expected. Please change the shape of y to (n_samples, ), for example using ravel().\n",
            "  y = column_or_1d(y, warn=True)\n",
            "/usr/local/lib/python3.9/dist-packages/sklearn/metrics/_classification.py:1344: UndefinedMetricWarning: Precision is ill-defined and being set to 0.0 due to no predicted samples. Use `zero_division` parameter to control this behavior.\n",
            "  _warn_prf(average, modifier, msg_start, len(result))\n",
            "/usr/local/lib/python3.9/dist-packages/sklearn/neural_network/_multilayer_perceptron.py:1098: DataConversionWarning: A column-vector y was passed when a 1d array was expected. Please change the shape of y to (n_samples, ), for example using ravel().\n",
            "  y = column_or_1d(y, warn=True)\n",
            "/usr/local/lib/python3.9/dist-packages/sklearn/neural_network/_multilayer_perceptron.py:1098: DataConversionWarning: A column-vector y was passed when a 1d array was expected. Please change the shape of y to (n_samples, ), for example using ravel().\n",
            "  y = column_or_1d(y, warn=True)\n",
            "/usr/local/lib/python3.9/dist-packages/sklearn/neural_network/_multilayer_perceptron.py:1098: DataConversionWarning: A column-vector y was passed when a 1d array was expected. Please change the shape of y to (n_samples, ), for example using ravel().\n",
            "  y = column_or_1d(y, warn=True)\n",
            "/usr/local/lib/python3.9/dist-packages/sklearn/neural_network/_multilayer_perceptron.py:1098: DataConversionWarning: A column-vector y was passed when a 1d array was expected. Please change the shape of y to (n_samples, ), for example using ravel().\n",
            "  y = column_or_1d(y, warn=True)\n",
            "/usr/local/lib/python3.9/dist-packages/sklearn/metrics/_classification.py:1344: UndefinedMetricWarning: Precision is ill-defined and being set to 0.0 due to no predicted samples. Use `zero_division` parameter to control this behavior.\n",
            "  _warn_prf(average, modifier, msg_start, len(result))\n",
            "/usr/local/lib/python3.9/dist-packages/sklearn/neural_network/_multilayer_perceptron.py:1098: DataConversionWarning: A column-vector y was passed when a 1d array was expected. Please change the shape of y to (n_samples, ), for example using ravel().\n",
            "  y = column_or_1d(y, warn=True)\n",
            "/usr/local/lib/python3.9/dist-packages/sklearn/neural_network/_multilayer_perceptron.py:1098: DataConversionWarning: A column-vector y was passed when a 1d array was expected. Please change the shape of y to (n_samples, ), for example using ravel().\n",
            "  y = column_or_1d(y, warn=True)\n",
            "/usr/local/lib/python3.9/dist-packages/sklearn/neural_network/_multilayer_perceptron.py:1098: DataConversionWarning: A column-vector y was passed when a 1d array was expected. Please change the shape of y to (n_samples, ), for example using ravel().\n",
            "  y = column_or_1d(y, warn=True)\n",
            "/usr/local/lib/python3.9/dist-packages/sklearn/neural_network/_multilayer_perceptron.py:1098: DataConversionWarning: A column-vector y was passed when a 1d array was expected. Please change the shape of y to (n_samples, ), for example using ravel().\n",
            "  y = column_or_1d(y, warn=True)\n",
            "/usr/local/lib/python3.9/dist-packages/sklearn/neural_network/_multilayer_perceptron.py:1098: DataConversionWarning: A column-vector y was passed when a 1d array was expected. Please change the shape of y to (n_samples, ), for example using ravel().\n",
            "  y = column_or_1d(y, warn=True)\n"
          ]
        },
        {
          "output_type": "execute_result",
          "data": {
            "text/plain": [
              "(array([0.45714286, 0.65454545, 0.65454545, 0.42424242, 0.45454545]),\n",
              " array([0. , 0.5, 1. , 0. , 0. ]),\n",
              " array([0.        , 0.33333333, 0.25      , 0.        , 0.        ]))"
            ]
          },
          "metadata": {},
          "execution_count": 22
        }
      ]
    },
    {
      "cell_type": "code",
      "execution_count": null,
      "metadata": {
        "colab": {
          "base_uri": "https://localhost:8080/"
        },
        "id": "lS8ZXiPjOQ2b",
        "outputId": "2bd81635-c6a7-49c9-b5c9-97b049babcc5"
      },
      "outputs": [
        {
          "output_type": "stream",
          "name": "stdout",
          "text": [
            "MLP ann: Confusion Matrix\n",
            "[[ 0  3]\n",
            " [ 1 15]]\n"
          ]
        }
      ],
      "source": [
        "print (\"MLP ann: Confusion Matrix\")\n",
        "print (\"{0}\".format(metrics.confusion_matrix(y_test, ann.predict(X_test), labels=[1, -1])))"
      ]
    },
    {
      "cell_type": "code",
      "execution_count": null,
      "metadata": {
        "colab": {
          "base_uri": "https://localhost:8080/"
        },
        "id": "RZI09gM4ORKb",
        "outputId": "d1a07f0c-5e50-4b25-ecf3-c4cd31692cc6"
      },
      "outputs": [
        {
          "output_type": "stream",
          "name": "stdout",
          "text": [
            "MLP ann: Classification Report\n",
            "              precision    recall  f1-score   support\n",
            "\n",
            "           1       0.00      0.00      0.00         3\n",
            "          -1       0.83      0.94      0.88        16\n",
            "\n",
            "    accuracy                           0.79        19\n",
            "   macro avg       0.42      0.47      0.44        19\n",
            "weighted avg       0.70      0.79      0.74        19\n",
            "\n"
          ]
        }
      ],
      "source": [
        "print (\"MLP ann: Classification Report\")\n",
        "\n",
        "print (\"{0}\".format(metrics.classification_report(y_test, ann.predict(X_test), labels=[1, -1])))"
      ]
    },
    {
      "cell_type": "markdown",
      "metadata": {
        "id": "18UKncKHJAoY"
      },
      "source": [
        "#6. Decision Tree+ LOOC\n"
      ]
    },
    {
      "cell_type": "code",
      "execution_count": null,
      "metadata": {
        "colab": {
          "base_uri": "https://localhost:8080/"
        },
        "id": "ljvebSX_OpHm",
        "outputId": "176788c6-4e22-41b1-fe7a-7cd8a2c2b999"
      },
      "outputs": [
        {
          "output_type": "execute_result",
          "data": {
            "text/plain": [
              "(array([-1, -1,  1, -1, -1, -1, -1, -1,  1, -1, -1, -1, -1,  1, -1, -1, -1,\n",
              "        -1, -1]),\n",
              "     rug pull\n",
              " 38        -1\n",
              " 49        -1\n",
              " 89         1\n",
              " 13        -1\n",
              " 44        -1\n",
              " 59        -1\n",
              " 35        -1\n",
              " 15        -1\n",
              " 20        -1\n",
              " 7         -1\n",
              " 80         1\n",
              " 16        -1\n",
              " 56        -1\n",
              " 5         -1\n",
              " 0         -1\n",
              " 91         1\n",
              " 72        -1\n",
              " 25        -1\n",
              " 46        -1,\n",
              " 0.7894736842105263)"
            ]
          },
          "metadata": {},
          "execution_count": 25
        }
      ],
      "source": [
        "\n",
        "from sklearn.tree import DecisionTreeClassifier\n",
        "dt = DecisionTreeClassifier(random_state=42)\n",
        "dt.fit(X_train, y_train.values.ravel())\n",
        "dt.predict(X_test), y_test, dt.score(X_test, y_test)"
      ]
    },
    {
      "cell_type": "code",
      "source": [
        "dt2 = DecisionTreeClassifier(random_state=42)\n",
        "\n",
        "f1_macroDT2 = cross_val_score(dt2, X_sc, y_sc, scoring='f1_macro',cv=5)\n",
        "precisionDT2 = cross_val_score(dt2, X_sc, y_sc, scoring='precision',cv=5)\n",
        "recallDT2 = cross_val_score(dt2, X_sc, y_sc, scoring='recall',cv=5)\n",
        "\n",
        "\n",
        "f1_macroDT2, precisionDT2, recallDT2"
      ],
      "metadata": {
        "colab": {
          "base_uri": "https://localhost:8080/"
        },
        "id": "EkgQPas7itMr",
        "outputId": "0c0cffe0-1812-436a-8545-2b6e8a3cc2c0"
      },
      "execution_count": null,
      "outputs": [
        {
          "output_type": "execute_result",
          "data": {
            "text/plain": [
              "(array([0.36666667, 0.80208333, 0.9124424 , 0.73732719, 0.2173913 ]),\n",
              " array([0.2       , 0.66666667, 1.        , 0.66666667, 0.        ]),\n",
              " array([1.        , 0.66666667, 0.75      , 0.5       , 0.        ]))"
            ]
          },
          "metadata": {},
          "execution_count": 26
        }
      ]
    },
    {
      "cell_type": "code",
      "execution_count": null,
      "metadata": {
        "colab": {
          "base_uri": "https://localhost:8080/"
        },
        "id": "WkKyRnHnPVsO",
        "outputId": "2bdd4153-c4a6-4f74-ca28-fa6e855f794b"
      },
      "outputs": [
        {
          "output_type": "stream",
          "name": "stdout",
          "text": [
            "DT: Confusion Matrix\n",
            "[[ 1  2]\n",
            " [ 2 14]]\n"
          ]
        }
      ],
      "source": [
        "print (\"DT: Confusion Matrix\")\n",
        "print (\"{0}\".format(metrics.confusion_matrix(y_test, dt.predict(X_test), labels=[1, -1])))"
      ]
    },
    {
      "cell_type": "code",
      "execution_count": null,
      "metadata": {
        "colab": {
          "base_uri": "https://localhost:8080/"
        },
        "id": "Y5FFqiKGPZyG",
        "outputId": "3e188f3f-ae32-44d5-ec0d-5f6b531e11dd"
      },
      "outputs": [
        {
          "output_type": "stream",
          "name": "stdout",
          "text": [
            "DT: Classification Report\n",
            "              precision    recall  f1-score   support\n",
            "\n",
            "           1       0.33      0.33      0.33         3\n",
            "          -1       0.88      0.88      0.88        16\n",
            "\n",
            "    accuracy                           0.79        19\n",
            "   macro avg       0.60      0.60      0.60        19\n",
            "weighted avg       0.79      0.79      0.79        19\n",
            "\n"
          ]
        }
      ],
      "source": [
        "print (\"DT: Classification Report\")\n",
        "\n",
        "print (\"{0}\".format(metrics.classification_report(y_test, dt.predict(X_test), labels=[1, -1])))"
      ]
    },
    {
      "cell_type": "markdown",
      "metadata": {
        "id": "MlasAzvAPhS1"
      },
      "source": [
        "# 6.Model comparison\n",
        "\n"
      ]
    },
    {
      "cell_type": "markdown",
      "source": [
        "# F1_macro score"
      ],
      "metadata": {
        "id": "pZ96CgJkmYyl"
      }
    },
    {
      "cell_type": "code",
      "execution_count": null,
      "metadata": {
        "colab": {
          "base_uri": "https://localhost:8080/",
          "height": 720
        },
        "id": "SbZqKs3kadbf",
        "outputId": "f441be82-3cdd-431c-8f84-fe069a792acd"
      },
      "outputs": [
        {
          "output_type": "display_data",
          "data": {
            "text/plain": [
              "<Figure size 1200x800 with 1 Axes>"
            ],
            "image/png": "[encoded data removed]"
          },
          "metadata": {}
        }
      ],
      "source": [
        "import numpy as np\n",
        "import matplotlib.pyplot as plt\n",
        "\n",
        "\n",
        "# creating the dataset\n",
        "data = {'Ridge Classifier':np.mean(f1_macroRDG2), 'Naive Bayes':np.mean(f1_macroNB2), 'Logistic Regression':np.mean(f1_macroLR2),\n",
        "        'Support Vector Machine':np.mean(f1_macroSVM2), 'MLP':np.mean(f1_macroMLP2),'Decision Tree':np.mean(f1_macroDT2)}\n",
        "model = list(data.keys())\n",
        "mean_precision_Rate = list(data.values())\n",
        "\n",
        "fig = plt.figure(figsize = (12, 8))\n",
        "\n",
        "# creating the bar plot\n",
        "plt.bar(model, mean_precision_Rate, color ='darkolivegreen',\n",
        "        width = 0.4)\n",
        "\n",
        "plt.xlabel(\"Model\")\n",
        "plt.ylabel(\"Mean Precision Rate\")\n",
        "plt.title(\"F1-Macro Score Mean (LOOCV=5)\")\n",
        "plt.show()\n"
      ]
    },
    {
      "cell_type": "code",
      "source": [
        "np.mean(recallSVM2), recallSVM2"
      ],
      "metadata": {
        "colab": {
          "base_uri": "https://localhost:8080/"
        },
        "id": "6XeX1yj-skX9",
        "outputId": "92d2ae64-6fe8-44db-b3c8-4d4191b8640f"
      },
      "execution_count": null,
      "outputs": [
        {
          "output_type": "execute_result",
          "data": {
            "text/plain": [
              "(0.5, array([1. , 1. , 0.5, 0. , 0. ]))"
            ]
          },
          "metadata": {},
          "execution_count": 52
        }
      ]
    },
    {
      "cell_type": "code",
      "execution_count": null,
      "metadata": {
        "colab": {
          "base_uri": "https://localhost:8080/",
          "height": 720
        },
        "id": "qPY47BfUdgiE",
        "outputId": "89064786-4fbf-4c60-fe1a-8ae5100cab40"
      },
      "outputs": [
        {
          "output_type": "display_data",
          "data": {
            "text/plain": [
              "<Figure size 1200x800 with 1 Axes>"
            ],
            "image/png": "[encoded data removed]"
          },
          "metadata": {}
        }
      ],
      "source": [
        "\n",
        "\n",
        "\n",
        "# creating the dataset\n",
        "data = {'Ridge Classifier':np.var(f1_macroRDG2), 'Naive Bayes':np.var(f1_macroNB2), 'Logistic Regression':np.var(f1_macroLR2),\n",
        "        'Support Vector Machine':np.var(f1_macroSVM2), 'MLP':np.var(f1_macroMLP2),'Decision Tree':np.var(f1_macroDT2)}\n",
        "model = list(data.keys())\n",
        "mean_precision_Rate = list(data.values())\n",
        "\n",
        "fig = plt.figure(figsize = (12, 8))\n",
        "\n",
        "# creating the bar plot\n",
        "plt.bar(model, mean_precision_Rate, color ='yellowgreen',\n",
        "        width = 0.4)\n",
        "\n",
        "plt.xlabel(\"Model\")\n",
        "plt.ylabel(\"Mean Precision Rate\")\n",
        "plt.title(\"F1-Macro Score Variance (LOOCV=5)\")\n",
        "plt.show()\n"
      ]
    },
    {
      "cell_type": "markdown",
      "source": [
        "#precision score"
      ],
      "metadata": {
        "id": "5VLT5x3FmbiN"
      }
    },
    {
      "cell_type": "code",
      "execution_count": null,
      "metadata": {
        "id": "AKleJvlrfZiD",
        "colab": {
          "base_uri": "https://localhost:8080/",
          "height": 720
        },
        "outputId": "1017a7e9-82ca-447b-c151-62d7d27b4106"
      },
      "outputs": [
        {
          "output_type": "display_data",
          "data": {
            "text/plain": [
              "<Figure size 1200x800 with 1 Axes>"
            ],
            "image/png": "[encoded data removed]"
          },
          "metadata": {}
        }
      ],
      "source": [
        "import numpy as np\n",
        "import matplotlib.pyplot as plt\n",
        "\n",
        "\n",
        "# creating the dataset\n",
        "data = {'Ridge Classifier':np.mean(precisionRDG2), 'Naive Bayes':np.mean(precisionNB2), 'Logistic Regression':np.mean(precisionLR2),\n",
        "        'Support Vector Machine':np.mean(precisionSVM2), 'MLP':np.mean(precisionMLP2),'Decision Tree':np.mean(precisionDT2)}\n",
        "model = list(data.keys())\n",
        "mean_precision_Rate = list(data.values())\n",
        "\n",
        "fig = plt.figure(figsize = (12, 8))\n",
        "\n",
        "# creating the bar plot\n",
        "plt.bar(model, mean_precision_Rate, color ='dodgerblue',\n",
        "        width = 0.4)\n",
        "\n",
        "plt.xlabel(\"Model\")\n",
        "plt.ylabel(\"Mean Precision Rate\")\n",
        "plt.title(\"Precision Score Mean (LOOCV=5)\")\n",
        "plt.show()\n"
      ]
    },
    {
      "cell_type": "code",
      "source": [
        "np.mean(precisionDT2), np.mean(precisionNB2)"
      ],
      "metadata": {
        "colab": {
          "base_uri": "https://localhost:8080/"
        },
        "id": "hCDrL-OXs4UI",
        "outputId": "18a38517-77cb-4c3f-e740-51fe6f72d454"
      },
      "execution_count": null,
      "outputs": [
        {
          "output_type": "execute_result",
          "data": {
            "text/plain": [
              "(0.5066666666666666, 0.27272727272727276)"
            ]
          },
          "metadata": {},
          "execution_count": 43
        }
      ]
    },
    {
      "cell_type": "code",
      "source": [
        "np.mean(recallNB2), recallNB2"
      ],
      "metadata": {
        "colab": {
          "base_uri": "https://localhost:8080/"
        },
        "id": "RzI-pxWKF9KC",
        "outputId": "c1fa15c0-3f1d-4061-c37c-6980870327ed"
      },
      "execution_count": null,
      "outputs": [
        {
          "output_type": "execute_result",
          "data": {
            "text/plain": [
              "(0.8, array([1., 1., 1., 1., 0.]))"
            ]
          },
          "metadata": {},
          "execution_count": 45
        }
      ]
    },
    {
      "cell_type": "code",
      "execution_count": null,
      "metadata": {
        "id": "N6ObkeRRfaAs",
        "colab": {
          "base_uri": "https://localhost:8080/",
          "height": 720
        },
        "outputId": "e0d31c33-9a3a-4d4f-80ed-f37f932a57d3"
      },
      "outputs": [
        {
          "output_type": "display_data",
          "data": {
            "text/plain": [
              "<Figure size 1200x800 with 1 Axes>"
            ],
            "image/png": "[encoded data removed]"
          },
          "metadata": {}
        }
      ],
      "source": [
        "\n",
        "\n",
        "\n",
        "# creating the dataset\n",
        "data = {'Ridge Classifier':np.var(precisionRDG2), 'Naive Bayes':np.var(precisionNB2), 'Logistic Regression':np.var(precisionLR2),\n",
        "        'Support Vector Machine':np.var(precisionSVM2), 'MLP':np.var(precisionMLP2),'Decision Tree':np.var(precisionDT2)}\n",
        "model = list(data.keys())\n",
        "mean_precision_Rate = list(data.values())\n",
        "\n",
        "fig = plt.figure(figsize = (12, 8))\n",
        "\n",
        "# creating the bar plot\n",
        "plt.bar(model, mean_precision_Rate, color ='deepskyblue',\n",
        "        width = 0.4)\n",
        "\n",
        "plt.xlabel(\"Model\")\n",
        "plt.ylabel(\"Mean Precision Rate\")\n",
        "plt.title(\"Precision Score Variance (LOOCV=5)\")\n",
        "plt.show()\n"
      ]
    },
    {
      "cell_type": "markdown",
      "source": [
        "#recall score\n"
      ],
      "metadata": {
        "id": "Ehr_TndRmy-t"
      }
    },
    {
      "cell_type": "code",
      "source": [
        "import numpy as np\n",
        "import matplotlib.pyplot as plt\n",
        "\n",
        "\n",
        "# creating the dataset\n",
        "data = {'Ridge Classifier':np.mean(recallRDG2), 'Naive Bayes':np.mean(recallNB2), 'Logistic Regression':np.mean(recallLR2),\n",
        "        'Support Vector Machine':np.mean(recallSVM2), 'MLP':np.mean(recallMLP2),'Decision Tree':np.mean(recallDT2)}\n",
        "model = list(data.keys())\n",
        "mean_precision_Rate = list(data.values())\n",
        "\n",
        "fig = plt.figure(figsize = (12, 8))\n",
        "\n",
        "# creating the bar plot\n",
        "plt.bar(model, mean_precision_Rate, color ='mediumslateblue',\n",
        "        width = 0.4)\n",
        "\n",
        "plt.xlabel(\"Model\")\n",
        "plt.ylabel(\"Mean Precision Rate\")\n",
        "plt.title(\"Recall Score Mean (LOOCV=5)\")\n",
        "plt.show()\n"
      ],
      "metadata": {
        "colab": {
          "base_uri": "https://localhost:8080/",
          "height": 720
        },
        "id": "T40cco8Mm1Fd",
        "outputId": "dcbf2bd6-9b15-4cd0-b817-d4a362e8b303"
      },
      "execution_count": null,
      "outputs": [
        {
          "output_type": "display_data",
          "data": {
            "text/plain": [
              "<Figure size 1200x800 with 1 Axes>"
            ],
            "image/png": "[encoded data removed]"
          },
          "metadata": {}
        }
      ]
    },
    {
      "cell_type": "code",
      "source": [
        "np.mean(recallNB2), np.mean(recallMLP2)"
      ],
      "metadata": {
        "colab": {
          "base_uri": "https://localhost:8080/"
        },
        "id": "AJJi6Bkks_lK",
        "outputId": "dc513722-e23b-4480-e155-68f93ed7d03f"
      },
      "execution_count": null,
      "outputs": [
        {
          "output_type": "execute_result",
          "data": {
            "text/plain": [
              "(0.8, 0.11666666666666665)"
            ]
          },
          "metadata": {},
          "execution_count": 44
        }
      ]
    },
    {
      "cell_type": "code",
      "source": [
        "\n",
        "\n",
        "\n",
        "# creating the dataset\n",
        "data = {'Ridge Classifier':np.var(recallRDG2), 'Naive Bayes':np.var(recallNB2), 'Logistic Regression':np.var(recallLR2),\n",
        "        'Support Vector Machine':np.var(recallSVM2), 'MLP':np.var(recallMLP2),'Decision Tree':np.var(recallDT2)}\n",
        "model = list(data.keys())\n",
        "mean_precision_Rate = list(data.values())\n",
        "\n",
        "fig = plt.figure(figsize = (12, 8))\n",
        "\n",
        "# creating the bar plot\n",
        "plt.bar(model, mean_precision_Rate, color ='thistle',\n",
        "        width = 0.4)\n",
        "\n",
        "plt.xlabel(\"Model\")\n",
        "plt.ylabel(\"Mean Precision Rate\")\n",
        "plt.title(\"Recall Score Variance (LOOCV=5)\")\n",
        "plt.show()\n"
      ],
      "metadata": {
        "colab": {
          "base_uri": "https://localhost:8080/",
          "height": 720
        },
        "id": "RJcHzV8Rm3fL",
        "outputId": "74d055d6-0c55-4709-f086-3cd3aa25e370"
      },
      "execution_count": null,
      "outputs": [
        {
          "output_type": "display_data",
          "data": {
            "text/plain": [
              "<Figure size 1200x800 with 1 Axes>"
            ],
            "image/png": "[encoded data removed]"
          },
          "metadata": {}
        }
      ]
    }
  ],
  "metadata": {
    "colab": {
      "toc_visible": true,
      "provenance": []
    },
    "kernelspec": {
      "display_name": "Python 3",
      "name": "python3"
    },
    "language_info": {
      "name": "python"
    },
    "accelerator": "GPU",
    "gpuClass": "standard"
  },
  "nbformat": 4,
  "nbformat_minor": 0
}